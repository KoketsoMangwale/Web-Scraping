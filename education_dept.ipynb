{
 "cells": [
  {
   "cell_type": "code",
   "execution_count": 1,
   "id": "595840e8",
   "metadata": {},
   "outputs": [],
   "source": [
    "from bs4 import BeautifulSoup\n",
    "import requests\n",
    "import pandas as pd"
   ]
  },
  {
   "cell_type": "markdown",
   "id": "bc1d1ed5",
   "metadata": {},
   "source": [
    "https://www.youtube.com/watch?v=NkFc1nWGBg0&t=88s\n",
    "\n",
    "https://www.crummy.com/software/BeautifulSoup/bs4/doc/\n",
    "\n",
    "https://www.youtube.com/watch?v=EohwRhVwqIQ"
   ]
  },
  {
   "cell_type": "markdown",
   "id": "07c9594e",
   "metadata": {},
   "source": [
    "### Department of Education Web Scrape"
   ]
  },
  {
   "cell_type": "code",
   "execution_count": 2,
   "id": "967c5471",
   "metadata": {},
   "outputs": [],
   "source": [
    "url = \"https://www.education.gov.za/Tenders/AwardedTenders.aspx\""
   ]
  },
  {
   "cell_type": "code",
   "execution_count": 3,
   "id": "34ddcff0",
   "metadata": {},
   "outputs": [
    {
     "data": {
      "text/plain": [
       "200"
      ]
     },
     "execution_count": 3,
     "metadata": {},
     "output_type": "execute_result"
    }
   ],
   "source": [
    "response = requests.get(url)\n",
    "response.status_code"
   ]
  },
  {
   "cell_type": "markdown",
   "id": "5d4cb225",
   "metadata": {},
   "source": [
    "#### Soup Object"
   ]
  },
  {
   "cell_type": "code",
   "execution_count": 4,
   "id": "5e96b3ca",
   "metadata": {},
   "outputs": [],
   "source": [
    "soup = BeautifulSoup(response.content, 'html.parser')"
   ]
  },
  {
   "cell_type": "code",
   "execution_count": 18,
   "id": "6dd49f70",
   "metadata": {
    "scrolled": true
   },
   "outputs": [],
   "source": [
    "#soup"
   ]
  },
  {
   "cell_type": "markdown",
   "id": "dcfe6737",
   "metadata": {},
   "source": [
    "#### Results"
   ]
  },
  {
   "cell_type": "code",
   "execution_count": 6,
   "id": "b608aedb",
   "metadata": {},
   "outputs": [],
   "source": [
    "results = soup.find_all('div',{'class':'well well-sm'})"
   ]
  },
  {
   "cell_type": "code",
   "execution_count": 7,
   "id": "798f038a",
   "metadata": {},
   "outputs": [
    {
     "data": {
      "text/plain": [
       "14"
      ]
     },
     "execution_count": 7,
     "metadata": {},
     "output_type": "execute_result"
    }
   ],
   "source": [
    "len(results)"
   ]
  },
  {
   "cell_type": "code",
   "execution_count": 10,
   "id": "ae1e07a1",
   "metadata": {},
   "outputs": [],
   "source": [
    "result_2 = soup.find_all('table')"
   ]
  },
  {
   "cell_type": "code",
   "execution_count": 17,
   "id": "715a0f6b",
   "metadata": {
    "scrolled": true
   },
   "outputs": [],
   "source": [
    "#results.find_all('DBE').get_text()\n",
    "#results"
   ]
  },
  {
   "cell_type": "code",
   "execution_count": 15,
   "id": "7d646f9b",
   "metadata": {},
   "outputs": [
    {
     "data": {
      "text/plain": [
       "str"
      ]
     },
     "execution_count": 15,
     "metadata": {},
     "output_type": "execute_result"
    }
   ],
   "source": [
    "type(results[i].find('span').get_text())"
   ]
  },
  {
   "cell_type": "code",
   "execution_count": 24,
   "id": "ef24b9aa",
   "metadata": {},
   "outputs": [
    {
     "name": "stdout",
     "output_type": "stream",
     "text": [
      "DBE174: APPOINTMENT OF A PANEL OF PROFESSIONAL SERVICE PROVIDERS (PSPS) FOR INTERNAL AUDIT SERVICES AND INVESTIGATIONS TO THE DEPARTMENT OF BASIC EDUCATION AS AND WHEN NEEDED FOR A PERIOD OF 36 MONTHS\n",
      "DBE176: APPOINTMENT OF A SERVICE PROVIDER OR A CONSORTIUM OF SERVICE PROVIDERS FOR PRINTING, STORAGE, PACKAGING AND DISTRIBUTION OF WORKBOOKS FOR DEPARTMENT OF BASIC EDUCATION FOR A PERIOD OF THREE (3) YEARS WITH AN OPTION TO EXTEND FOR ANOTHER TWO (2) YEARS\n",
      "PSU Contract Extension\n",
      "DBE169: APPOINTMENT OF A SERVICE PROVIDER TO SUPPORT THE DEPARTMENT OF BASIC EDUCATION ON AREAS OF FINANCE\n",
      "DBE170: APPOINTMENT OF A PROFESSIONAL CONFERENCE ORGANISER FOR THE DEPARTMENT OF BASIC EDUCATION FOR A PERIOD OF THREE (3) YEARS\n",
      "DBE164: APPOINTMENT OF A SERVICE PROVIDER OR A CONSORTIUM OF SERVICE PROVIDERS WITH PROFESSIONAL AND TECHNICAL EXPERTISE TO CONDUCT THE 2021 SYSTEMIC EVALUATION\n",
      "DBE168: CREATION OF A DATABASE OF SERVICE PROVIDERS TO CONDUCT ELECTRONIC ELECTIONS FOR SCHOOL GOVERNING BODIES FROM 2021 TO 2024\n",
      "DBE167: SCHOOL MONITORING SURVEY 2021 \n",
      "DBE162: MICROSOFT LICENSING FOR THE DEPARTMENT OF BASIC EDUCATION FOR A PERIOD OF THREE YEARS\n",
      "DBE159: APPOINTMENT OF A TRAVEL MANAGEMENT COMPANY (TMC) TO CONDUCT TRAVEL AND ACCOMMODATION ARRANGEMENTS FOR THE DEPARTMENT OF BASIC EDUCATION FOR A PERIOD OF THREE (3) YEARS.\n",
      "DBE152: Provision of consultancy services on the development of design guideline for education facilities\n",
      "DBE109: Appointment of a Travel Management Company (TMC) to provide travel management services to the Department of Basic Education for a period of two years.\n",
      "Bid No. DBE073: Appointment of a service provider to provide an Internal Audit Function for the Department of Basic Education for a period of one year.\n",
      "Bid No.RFPDBE07: Provision of Professional Service Provider/s for construction of medium to large schools in the Eastern Cape for the Department of Basic Education (DBE) under Accelerated Schools Infrastructure Delivery Initiative (ASIDI).\n"
     ]
    }
   ],
   "source": [
    "tables = {}\n",
    "for i in range(0,len(results)):\n",
    "    bid_decrip = results[i].find('span').get_text()\n",
    "    #TO DO:Split bid number and bid description\n",
    "    print(bid_decrip)\n",
    "    for j in range(0,len(bid_decrip)):\n",
    "        tables = soup.find_all('table')\n",
    "        #print(type(tables))\n",
    "        #print(tables)\n",
    "        \n",
    "        #TO DO: Every p tag is a column\n",
    "        #TO DO: Handle exception when the data rate is exceeded."
   ]
  },
  {
   "cell_type": "code",
   "execution_count": 27,
   "id": "022b848b",
   "metadata": {},
   "outputs": [],
   "source": [
    "tables_2 = pd.read_html(url)\n"
   ]
  },
  {
   "cell_type": "code",
   "execution_count": 34,
   "id": "68a497cb",
   "metadata": {},
   "outputs": [
    {
     "data": {
      "text/plain": [
       "18"
      ]
     },
     "execution_count": 34,
     "metadata": {},
     "output_type": "execute_result"
    }
   ],
   "source": [
    "len(tables_2)"
   ]
  },
  {
   "cell_type": "code",
   "execution_count": 36,
   "id": "1dd67908",
   "metadata": {},
   "outputs": [
    {
     "data": {
      "text/html": [
       "<div>\n",
       "<style scoped>\n",
       "    .dataframe tbody tr th:only-of-type {\n",
       "        vertical-align: middle;\n",
       "    }\n",
       "\n",
       "    .dataframe tbody tr th {\n",
       "        vertical-align: top;\n",
       "    }\n",
       "\n",
       "    .dataframe thead th {\n",
       "        text-align: right;\n",
       "    }\n",
       "</style>\n",
       "<table border=\"1\" class=\"dataframe\">\n",
       "  <thead>\n",
       "    <tr style=\"text-align: right;\">\n",
       "      <th></th>\n",
       "      <th>0</th>\n",
       "      <th>1</th>\n",
       "    </tr>\n",
       "  </thead>\n",
       "  <tbody>\n",
       "    <tr>\n",
       "      <th>0</th>\n",
       "      <td>NO.</td>\n",
       "      <td>NAME OF BIDDER</td>\n",
       "    </tr>\n",
       "    <tr>\n",
       "      <th>1</th>\n",
       "      <td>1.</td>\n",
       "      <td>Sedupe and Metja Consulting (Pty) Ltd</td>\n",
       "    </tr>\n",
       "    <tr>\n",
       "      <th>2</th>\n",
       "      <td>2.</td>\n",
       "      <td>Kopano Incorporated</td>\n",
       "    </tr>\n",
       "    <tr>\n",
       "      <th>3</th>\n",
       "      <td>3.</td>\n",
       "      <td>Thabi Consulting CC</td>\n",
       "    </tr>\n",
       "    <tr>\n",
       "      <th>4</th>\n",
       "      <td>4.</td>\n",
       "      <td>Ligwa Advisory Services</td>\n",
       "    </tr>\n",
       "  </tbody>\n",
       "</table>\n",
       "</div>"
      ],
      "text/plain": [
       "     0                                      1\n",
       "0  NO.                         NAME OF BIDDER\n",
       "1   1.  Sedupe and Metja Consulting (Pty) Ltd\n",
       "2   2.                    Kopano Incorporated\n",
       "3   3.                    Thabi Consulting CC\n",
       "4   4.                Ligwa Advisory Services"
      ]
     },
     "execution_count": 36,
     "metadata": {},
     "output_type": "execute_result"
    }
   ],
   "source": [
    "tables_2[0].head()"
   ]
  },
  {
   "cell_type": "markdown",
   "id": "c6651f3e",
   "metadata": {},
   "source": [
    "#### Name of Bidder"
   ]
  },
  {
   "cell_type": "code",
   "execution_count": null,
   "id": "a1dca613",
   "metadata": {},
   "outputs": [],
   "source": [
    "#TO DO: Save each table in CSV"
   ]
  }
 ],
 "metadata": {
  "kernelspec": {
   "display_name": "Python 3",
   "language": "python",
   "name": "python3"
  },
  "language_info": {
   "codemirror_mode": {
    "name": "ipython",
    "version": 3
   },
   "file_extension": ".py",
   "mimetype": "text/x-python",
   "name": "python",
   "nbconvert_exporter": "python",
   "pygments_lexer": "ipython3",
   "version": "3.7.13"
  }
 },
 "nbformat": 4,
 "nbformat_minor": 5
}
